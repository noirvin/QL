{
 "cells": [
  {
   "cell_type": "code",
   "execution_count": 1,
   "metadata": {},
   "outputs": [
    {
     "name": "stdout",
     "output_type": "stream",
     "text": [
      "[[1, 115000], [2, 118450.0], [3, 122003.5], [4, 125663.605], [5, 129433.51315], [6, 133316.5185445], [7, 137316.014100835], [8, 141435.49452386005], [9, 145678.55935957585], [10, 150048.91614036314]]\n"
     ]
    }
   ],
   "source": [
    "def salary_calculator(base_salary, rate, years):\n",
    "    salary_over_years = []\n",
    "    year = 1\n",
    "    new_salary = base_salary\n",
    "    while year<=years:\n",
    "        \n",
    "        salary_over_years.append([year, new_salary])\n",
    "        new_salary = new_salary+(new_salary*rate)\n",
    "        year+=1\n",
    "    return salary_over_years\n",
    "salary_over_years = salary_calculator(115000, 0.03, 10)\n",
    "print(salary_over_years)"
   ]
  },
  {
   "cell_type": "code",
   "execution_count": 2,
   "metadata": {},
   "outputs": [
    {
     "name": "stdout",
     "output_type": "stream",
     "text": [
      "[[1, 115000], [2, 118450.0], [3, 122003.5], [4, 125663.605], [5, 129433.51315], [6, 133316.5185445], [7, 137316.014100835], [8, 141435.49452386005], [9, 145678.55935957585], [10, 150048.91614036314]]\n"
     ]
    }
   ],
   "source": [
    "print(salary_over_years)"
   ]
  },
  {
   "cell_type": "code",
   "execution_count": 3,
   "metadata": {},
   "outputs": [],
   "source": [
    "import numpy as np"
   ]
  },
  {
   "cell_type": "code",
   "execution_count": 4,
   "metadata": {},
   "outputs": [],
   "source": [
    "def mean(num_list):\n",
    "    sum = 0\n",
    "    for num in num_list:\n",
    "        sum = sum + num\n",
    "    average = sum/len(num_list)\n",
    "    return average"
   ]
  },
  {
   "cell_type": "code",
   "execution_count": 5,
   "metadata": {},
   "outputs": [],
   "source": [
    "average_test = mean([1,2,3,4,5,6])"
   ]
  },
  {
   "cell_type": "code",
   "execution_count": 6,
   "metadata": {},
   "outputs": [
    {
     "name": "stdout",
     "output_type": "stream",
     "text": [
      "3.5\n"
     ]
    }
   ],
   "source": [
    "print(average_test)\n"
   ]
  },
  {
   "cell_type": "code",
   "execution_count": 8,
   "metadata": {},
   "outputs": [],
   "source": [
    "test = np.mean([1,2,3,4,5,6])\n"
   ]
  },
  {
   "cell_type": "code",
   "execution_count": 9,
   "metadata": {},
   "outputs": [
    {
     "name": "stdout",
     "output_type": "stream",
     "text": [
      "3.5\n"
     ]
    }
   ],
   "source": [
    "print(test)"
   ]
  },
  {
   "cell_type": "code",
   "execution_count": 15,
   "metadata": {},
   "outputs": [
    {
     "name": "stdout",
     "output_type": "stream",
     "text": [
      "4.5\n",
      "4.5\n"
     ]
    }
   ],
   "source": [
    "def compute_median(dataset):\n",
    "    \"\"\" Main function that determines the median value across our data. \"\"\"\n",
    "    count = len(dataset)\n",
    "    sorted_list = np.sort(dataset)\n",
    "    if count < 1:\n",
    "        return \"list is empty\"\n",
    "    if count % 2 == 1:\n",
    "        median_index = (len(sorted_list)-1)/2\n",
    "        return sorted_list[int(median_index)]\n",
    "    else:\n",
    "        median = (sorted_list[int((len(sorted_list)-1)/2)]+sorted_list[int(len(sorted_list)/2)])/2\n",
    "        return median\n",
    "data = np.array([2, 5, 9, 3, 5, 4])    \n",
    "print(compute_median(data))\n",
    "print(np.median(data))"
   ]
  },
  {
   "cell_type": "code",
   "execution_count": 18,
   "metadata": {},
   "outputs": [
    {
     "name": "stdout",
     "output_type": "stream",
     "text": [
      "3\n"
     ]
    }
   ],
   "source": [
    "# NOTE: Tricker than it looks!\n",
    "data = np.array([1, 3, 5, 2, 3, 7, 8, 4, 10, 0, 6, 7, 3, 0, 3, 0, 5, 7, 10, 1, 4, 9, 3])\n",
    "\n",
    "# TODO: Complete this function by having the function return the relative mode across our dataset.\n",
    "# HINT: Remember histograms and tokenization from CS 1.2? How many they help you here? \n",
    "def compute_mode(dataset):\n",
    "    \"\"\" Main function that determines the mode value across our data. \"\"\"\n",
    "    histogram = {}\n",
    "    for data in dataset:\n",
    "        if data not in histogram:\n",
    "            histogram[data] = 1\n",
    "        else:\n",
    "            histogram[data]+=1\n",
    "    return max(histogram, key=histogram.get)\n",
    "\n",
    "testt = compute_mode(data)\n",
    "print(testt)"
   ]
  },
  {
   "cell_type": "code",
   "execution_count": 21,
   "metadata": {},
   "outputs": [
    {
     "name": "stdout",
     "output_type": "stream",
     "text": [
      "3\n"
     ]
    }
   ],
   "source": [
    "def max_freq(histogram):\n",
    "    target = 0\n",
    "    for key, value in histogram.items():\n",
    "        \n",
    "        if value>target:\n",
    "            target = value\n",
    "            target_key = key\n",
    "    return target_key\n",
    "print(max_freq({1:3, 2:4, 3:5}))\n",
    "\n",
    "        \n",
    "        \n",
    "    "
   ]
  },
  {
   "cell_type": "code",
   "execution_count": 22,
   "metadata": {},
   "outputs": [
    {
     "name": "stdout",
     "output_type": "stream",
     "text": [
      "8\n"
     ]
    }
   ],
   "source": [
    "def find_range(dataset):\n",
    "    range = max(dataset) - min(dataset)\n",
    "    return range\n",
    "print(find_range([1,2,3,4,5,6,7,8,9]))"
   ]
  },
  {
   "cell_type": "code",
   "execution_count": 38,
   "metadata": {},
   "outputs": [],
   "source": [
    "def std(dataset):\n",
    "    average = np.mean(dataset)\n",
    "    variance_list = []\n",
    "    for data in dataset:\n",
    "        variance_list.append((data-average)**2)\n",
    "    variance = sum(variance_list)\n",
    "    std_dataset = ((variance)/(len(dataset)-1))**(1/2)\n",
    "    return std_dataset\n",
    "    "
   ]
  },
  {
   "cell_type": "code",
   "execution_count": 39,
   "metadata": {},
   "outputs": [
    {
     "name": "stdout",
     "output_type": "stream",
     "text": [
      "6.454972243679028\n"
     ]
    }
   ],
   "source": [
    "print(std([5,10,15,20]))"
   ]
  },
  {
   "cell_type": "code",
   "execution_count": 42,
   "metadata": {},
   "outputs": [
    {
     "name": "stdout",
     "output_type": "stream",
     "text": [
      "6.454972243679028\n"
     ]
    }
   ],
   "source": [
    "print(np.std([5,10,15,20],ddof=1))"
   ]
  },
  {
   "cell_type": "code",
   "execution_count": 44,
   "metadata": {},
   "outputs": [
    {
     "name": "stdout",
     "output_type": "stream",
     "text": [
      "[2, 4, 6, 8]\n"
     ]
    }
   ],
   "source": [
    "def element_wise_addition(list1,list2):\n",
    "    list3 = []\n",
    "    \n",
    "    for i, j in zip(list1, list2):\n",
    "        list3.append(i+j)\n",
    "    return list3\n",
    "print(element_wise_addition([1,2,3,4],[1,2,3,4]))"
   ]
  },
  {
   "cell_type": "code",
   "execution_count": null,
   "metadata": {},
   "outputs": [],
   "source": []
  }
 ],
 "metadata": {
  "kernelspec": {
   "display_name": "Python 3",
   "language": "python",
   "name": "python3"
  },
  "language_info": {
   "codemirror_mode": {
    "name": "ipython",
    "version": 3
   },
   "file_extension": ".py",
   "mimetype": "text/x-python",
   "name": "python",
   "nbconvert_exporter": "python",
   "pygments_lexer": "ipython3",
   "version": "3.7.4"
  }
 },
 "nbformat": 4,
 "nbformat_minor": 4
}
