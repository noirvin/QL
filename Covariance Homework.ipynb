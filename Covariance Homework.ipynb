{
 "cells": [
  {
   "cell_type": "code",
   "execution_count": 2,
   "metadata": {},
   "outputs": [],
   "source": [
    "import numpy as np\n",
    "import pandas\n"
   ]
  },
  {
   "cell_type": "code",
   "execution_count": 5,
   "metadata": {},
   "outputs": [],
   "source": [
    "def covariance(dataset1,dataset2):\n",
    "        \n",
    "    mean_x = np.mean(dataset1)\n",
    "    mean_y = np.mean(dataset2)\n",
    "    sum_xy_mean_difference = 0\n",
    "    for x,y in zip(dataset1, dataset2):\n",
    "        \n",
    "        sum_xy_mean_difference+= (x-mean_x)*(y-mean_y)\n",
    "    cov = sum_xy_mean_difference/(len(dataset1)-1)\n",
    "    \n",
    "    return cov"
   ]
  },
  {
   "cell_type": "code",
   "execution_count": 6,
   "metadata": {},
   "outputs": [
    {
     "name": "stdout",
     "output_type": "stream",
     "text": [
      "0.0\n",
      "0.0\n"
     ]
    }
   ],
   "source": [
    "data_x = np.array([1,1,1,1])\n",
    "cov_x = covariance(data_x, data_x)\n",
    "test_cov_xx = np.var(data_x)\n",
    "print(cov_x)\n",
    "print(test_cov_xx)"
   ]
  },
  {
   "cell_type": "code",
   "execution_count": 25,
   "metadata": {},
   "outputs": [
    {
     "name": "stdout",
     "output_type": "stream",
     "text": [
      "[[0.0, 0.0, 0.0], [0.0, 1.6666666666666667, 1.1666666666666667], [0.0, 1.1666666666666667, 0.9166666666666666]]\n",
      "[[0.0, 0.0, 0.0], [0.0, 1.6666666666666667, 1.1666666666666667], [0.0, 1.1666666666666667, 0.9166666666666666]]\n",
      "[[0.         0.         0.        ]\n",
      " [0.         1.66666667 1.16666667]\n",
      " [0.         1.16666667 0.91666667]]\n"
     ]
    }
   ],
   "source": [
    "def covariance_matrix(x,y,z):\n",
    "    matrix = [[covariance(x,x),covariance(x,y),covariance(x,z)],\n",
    "               [covariance(y,x),covariance(y,y),covariance(y,z)],\n",
    "               [covariance(z,x),covariance(z,y),covariance(z,z)]]\n",
    "    return matrix\n",
    "x = np.array([1,1,1,1])\n",
    "y = np.array([1,2,3,4])\n",
    "z = np.array([1,1,2,3])\n",
    "print([[covariance(x,x),covariance(x,y),covariance(x,z)],\n",
    "       [covariance(y,x),covariance(y,y),covariance(y,z)],\n",
    "      [covariance(z,x),covariance(z,y),covariance(z,z)]])\n",
    "cov_matrix_xyz = covariance_matrix(x,y,z)\n",
    "test_cov_xyz = np.cov([x,y,z])\n",
    "print(cov_matrix_xyz)\n",
    "print(test_cov_xyz)"
   ]
  },
  {
   "cell_type": "code",
   "execution_count": 13,
   "metadata": {},
   "outputs": [
    {
     "data": {
      "text/plain": [
       "[[1, 2, 3], [2, 4, 3]]"
      ]
     },
     "execution_count": 13,
     "metadata": {},
     "output_type": "execute_result"
    }
   ],
   "source": [
    "[[1, 2, 3], [2, 4, 3]]"
   ]
  },
  {
   "cell_type": "code",
   "execution_count": null,
   "metadata": {},
   "outputs": [],
   "source": []
  }
 ],
 "metadata": {
  "kernelspec": {
   "display_name": "Python 3",
   "language": "python",
   "name": "python3"
  },
  "language_info": {
   "codemirror_mode": {
    "name": "ipython",
    "version": 3
   },
   "file_extension": ".py",
   "mimetype": "text/x-python",
   "name": "python",
   "nbconvert_exporter": "python",
   "pygments_lexer": "ipython3",
   "version": "3.7.4"
  }
 },
 "nbformat": 4,
 "nbformat_minor": 4
}
