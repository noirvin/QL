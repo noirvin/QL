{
 "cells": [
  {
   "cell_type": "code",
   "execution_count": 3,
   "metadata": {},
   "outputs": [
    {
     "name": "stdout",
     "output_type": "stream",
     "text": [
      "    Rainy    City\n",
      "0      29  City_A\n",
      "1      28  City_A\n",
      "2      32  City_A\n",
      "3      35  City_A\n",
      "4      36  City_A\n",
      "5      12  City_B\n",
      "6      18  City_B\n",
      "7      30  City_B\n",
      "8      45  City_B\n",
      "9      55  City_B\n",
      "10     32  City_C\n",
      "11     32  City_C\n",
      "12     32  City_C\n",
      "13     32  City_C\n",
      "14     32  City_C\n"
     ]
    }
   ],
   "source": [
    "import pandas as pd\n",
    "\n",
    "df = pd.DataFrame({'Rainy':[29,28,32,35,36,12,18,30,45,55, 32,32,32,32,32], 'City':['City_A']*5 + ['City_B']*5 + ['City_C']*5})\n",
    "print(df)"
   ]
  },
  {
   "cell_type": "code",
   "execution_count": 5,
   "metadata": {},
   "outputs": [
    {
     "name": "stdout",
     "output_type": "stream",
     "text": [
      "[[1, 115000], [2, 118450.0], [3, 122003.5], [4, 125663.605], [5, 129433.51315], [6, 133316.5185445], [7, 137316.014100835], [8, 141435.49452386005], [9, 145678.55935957585], [10, 150048.91614036314]]\n",
      "[[1, 115000], [2, 118450.0], [3, 122003.5], [4, 125663.605], [5, 129433.51315], [6, 133316.5185445], [7, 137316.014100835], [8, 141435.49452386005], [9, 145678.55935957585], [10, 150048.91614036314]]\n",
      "3.5\n",
      "3.5\n",
      "4.5\n",
      "4.5\n",
      "3\n",
      "3\n",
      "8\n",
      "6.454972243679028\n",
      "6.454972243679028\n",
      "[2, 4, 6, 8]\n"
     ]
    }
   ],
   "source": [
    "%run \"Statistical Analysis.ipynb\""
   ]
  },
  {
   "cell_type": "code",
   "execution_count": 6,
   "metadata": {},
   "outputs": [
    {
     "name": "stdout",
     "output_type": "stream",
     "text": [
      "32.0 32.0 32.0\n"
     ]
    }
   ],
   "source": [
    "city_A = [29, 28, 32, 35, 36]\n",
    "city_B = [12, 18, 30, 45, 55]\n",
    "city_C = [32, 32, 32, 32, 32]\n",
    "\n",
    "mean_a = mean(city_A)\n",
    "mean_b = mean(city_B)\n",
    "mean_c = mean(city_C)\n",
    "\n",
    "print(mean_a, mean_b, mean_c)"
   ]
  },
  {
   "cell_type": "code",
   "execution_count": 7,
   "metadata": {},
   "outputs": [
    {
     "name": "stdout",
     "output_type": "stream",
     "text": [
      "3.5355339059327378 18.01388353465182 0.0\n"
     ]
    }
   ],
   "source": [
    "std_a = std(city_A)\n",
    "std_b = std(city_B)\n",
    "std_c = std(city_C)\n",
    "print(std_a, std_b, std_c)"
   ]
  },
  {
   "cell_type": "code",
   "execution_count": 8,
   "metadata": {},
   "outputs": [
    {
     "name": "stdout",
     "output_type": "stream",
     "text": [
      "<matplotlib.collections.PathCollection object at 0x112db3d90>\n",
      "Text(0.5, 0, 'Running Distance (Mile)')\n",
      "Text(0, 0.5, 'Water Drinks (Litre)')\n"
     ]
    },
    {
     "data": {
      "image/png": "[encoded data removed]",
      "text/plain": [
       "<Figure size 432x288 with 1 Axes>"
      ]
     },
     "metadata": {
      "needs_background": "light"
     },
     "output_type": "display_data"
    }
   ],
   "source": [
    "import numpy as np\n",
    "import matplotlib.pyplot as plt\n",
    "\n",
    "# Running Distance in Mile\n",
    "X = np.array([3.3,4.4,5.5,6.71,6.93,4.168,9.779,6.182,7.59,2.167,\n",
    "                         7.042,10.791,5.313,7.997,5.654,9.27,3.1])\n",
    "\n",
    "# Water Drinks in Litre\n",
    "Y = np.array([1.7,2.76,2.09,3.19,1.694,1.573,3.366,2.596,2.53,1.221,\n",
    "                         2.827,3.465,1.65,2.904,2.42,2.94,1.3])\n",
    "\n",
    "print(plt.scatter(X, Y))\n",
    "print(plt.xlabel('Running Distance (Mile)'))\n",
    "print(plt.ylabel('Water Drinks (Litre)'))"
   ]
  },
  {
   "cell_type": "code",
   "execution_count": 9,
   "metadata": {},
   "outputs": [],
   "source": [
    "ypred = []\n",
    "for value in X:\n",
    "    ypred.append((value*0.7)+0.3)"
   ]
  },
  {
   "cell_type": "code",
   "execution_count": 11,
   "metadata": {},
   "outputs": [
    {
     "name": "stdout",
     "output_type": "stream",
     "text": [
      "<matplotlib.collections.PathCollection object at 0x115011d90>\n",
      "[<matplotlib.lines.Line2D object at 0x1150bddd0>]\n"
     ]
    },
    {
     "data": {
      "image/png": "[encoded data removed]",
      "text/plain": [
       "<Figure size 432x288 with 1 Axes>"
      ]
     },
     "metadata": {
      "needs_background": "light"
     },
     "output_type": "display_data"
    }
   ],
   "source": [
    "print(plt.scatter(X,Y))\n",
    "print(plt.plot(X, ypred, 'ro-'))\n"
   ]
  },
  {
   "cell_type": "code",
   "execution_count": 12,
   "metadata": {},
   "outputs": [],
   "source": [
    "E = []\n",
    "for i,j in zip(Y,ypred):\n",
    "    E.append(i-j)"
   ]
  },
  {
   "cell_type": "code",
   "execution_count": 15,
   "metadata": {},
   "outputs": [
    {
     "name": "stdout",
     "output_type": "stream",
     "text": [
      "1.3343514911764702\n"
     ]
    }
   ],
   "source": [
    "average = mean(E)\n",
    "squares_E = []\n",
    "for data in E:\n",
    "        squares_E.append((data-average)**2)\n",
    "variance_error = (sum(squares_E))/(len(squares_E)-1)\n",
    "print(variance_error)"
   ]
  },
  {
   "cell_type": "code",
   "execution_count": 17,
   "metadata": {},
   "outputs": [
    {
     "name": "stdout",
     "output_type": "stream",
     "text": [
      "6.518593101764703\n"
     ]
    }
   ],
   "source": [
    "square_E = []\n",
    "for element in E:\n",
    "    square_E.append(element**2)\n",
    "sum_square = sum(square_E)\n",
    "mse = sum_square/len(square_E)\n",
    "print(mse)"
   ]
  },
  {
   "cell_type": "code",
   "execution_count": 32,
   "metadata": {},
   "outputs": [
    {
     "name": "stdout",
     "output_type": "stream",
     "text": [
      "6\n"
     ]
    }
   ],
   "source": [
    "import math\n",
    "data = np.array([1, 3, 5, 2, 3, 7, 8, 4, 10, 0, 6, 7, 3, 0, 3, 0, 5, 7, 10, 1, 4, 9, 3])\n",
    "def percentile(percent,data):\n",
    "    sorted_set = np.sort(data)\n",
    "    index = (math.ceil((percent/100)*len(data)))-1\n",
    "    return sorted_set[index-1]\n",
    "seventy_percentile = percentile(70,data)\n",
    "print(seventy_percentile)"
   ]
  },
  {
   "cell_type": "code",
   "execution_count": 33,
   "metadata": {},
   "outputs": [
    {
     "name": "stdout",
     "output_type": "stream",
     "text": [
      "3\n"
     ]
    }
   ],
   "source": [
    "print(percentile(44, data))"
   ]
  },
  {
   "cell_type": "code",
   "execution_count": 29,
   "metadata": {},
   "outputs": [
    {
     "name": "stdout",
     "output_type": "stream",
     "text": [
      "11\n",
      "0.4782608695652174\n"
     ]
    }
   ],
   "source": [
    "lessthanthree = 0\n",
    "sorted_set = np.sort(data)\n",
    "for element in data:\n",
    "    if element<=3:\n",
    "        lessthanthree+=1\n",
    "print(lessthanthree)        \n",
    "percentile_byHand = lessthanthree/len(sorted_set)\n",
    "print(percentile_byHand)"
   ]
  },
  {
   "cell_type": "code",
   "execution_count": 44,
   "metadata": {},
   "outputs": [
    {
     "name": "stdout",
     "output_type": "stream",
     "text": [
      "30.808076923076925\n"
     ]
    }
   ],
   "source": [
    "print(((28.34*61)+(32.99*69))/130)\n"
   ]
  },
  {
   "cell_type": "code",
   "execution_count": null,
   "metadata": {},
   "outputs": [],
   "source": []
  }
 ],
 "metadata": {
  "kernelspec": {
   "display_name": "Python 3",
   "language": "python",
   "name": "python3"
  },
  "language_info": {
   "codemirror_mode": {
    "name": "ipython",
    "version": 3
   },
   "file_extension": ".py",
   "mimetype": "text/x-python",
   "name": "python",
   "nbconvert_exporter": "python",
   "pygments_lexer": "ipython3",
   "version": "3.7.4"
  }
 },
 "nbformat": 4,
 "nbformat_minor": 4
}
