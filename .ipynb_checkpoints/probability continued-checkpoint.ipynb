{
 "cells": [
  {
   "cell_type": "code",
   "execution_count": 7,
   "metadata": {},
   "outputs": [],
   "source": [
    "import numpy as np\n",
    "import pandas\n",
    "\n",
    "def freq_histogram(text):\n",
    "    word_list = text.split()\n",
    "    \n",
    "    histo = {}\n",
    "    for value in word_list:\n",
    "        if value in histo:\n",
    "            histo[value]+=1\n",
    "        else:\n",
    "            histo[value]=1\n",
    "    return histo        "
   ]
  },
  {
   "cell_type": "code",
   "execution_count": 13,
   "metadata": {},
   "outputs": [
    {
     "name": "stdout",
     "output_type": "stream",
     "text": [
      "{'Send': 3, 'us': 3, 'your': 3, 'password': 2, 'review': 1, 'account': 1}\n",
      "0.15384615384615385\n"
     ]
    }
   ],
   "source": [
    "text = \"Send us your password review us Send your password Send us your account\"\n",
    "text_histo = freq_histogram(text)\n",
    "print(text_histo)\n",
    "p_pass_given_spam = text_histo['password']/(sum(text_histo.values()))\n",
    "print(p_pass_given_spam)"
   ]
  },
  {
   "cell_type": "code",
   "execution_count": 14,
   "metadata": {},
   "outputs": [
    {
     "name": "stdout",
     "output_type": "stream",
     "text": [
      "{'Send': 1, 'us': 1, 'your': 2, 'review': 2, 'password': 1}\n"
     ]
    }
   ],
   "source": [
    "ham_text = \"Send us your review review your password\"\n",
    "ham_text_histo = freq_histogram(ham_text)\n",
    "print(freq_histogram(ham_text))\n",
    "p_pass_given_ham = ham_text_histo['password']/(sum(ham_text_histo.values()))"
   ]
  },
  {
   "cell_type": "code",
   "execution_count": 15,
   "metadata": {},
   "outputs": [
    {
     "name": "stdout",
     "output_type": "stream",
     "text": [
      "0.14285714285714285\n"
     ]
    }
   ],
   "source": [
    "print(p_pass_given_ham)"
   ]
  },
  {
   "cell_type": "code",
   "execution_count": 16,
   "metadata": {},
   "outputs": [],
   "source": [
    "def find_word_probability(text, target_word):\n",
    "    \n",
    "    histogram = freq_histogram(text)\n",
    "    \n",
    "    p_target_in_text = histogram[target_word]/(sum(histogram.values()))\n",
    "    \n",
    "    return p_target_in_text\n",
    "    "
   ]
  },
  {
   "cell_type": "code",
   "execution_count": null,
   "metadata": {},
   "outputs": [],
   "source": [
    "whole_text = \"Send us your review review your password Send us your password review us Send your password Send us your account\"\n",
    "p_review = find_word_probability('review')"
   ]
  }
 ],
 "metadata": {
  "kernelspec": {
   "display_name": "Python 3",
   "language": "python",
   "name": "python3"
  },
  "language_info": {
   "codemirror_mode": {
    "name": "ipython",
    "version": 3
   },
   "file_extension": ".py",
   "mimetype": "text/x-python",
   "name": "python",
   "nbconvert_exporter": "python",
   "pygments_lexer": "ipython3",
   "version": "3.7.4"
  }
 },
 "nbformat": 4,
 "nbformat_minor": 4
}
