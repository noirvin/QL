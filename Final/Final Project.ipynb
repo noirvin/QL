{
 "cells": [
  {
   "cell_type": "code",
   "execution_count": 1,
   "metadata": {},
   "outputs": [
    {
     "data": {
      "text/plain": [
       "Text(0, 0.5, 'Water Drinks (Litre)')"
      ]
     },
     "execution_count": 1,
     "metadata": {},
     "output_type": "execute_result"
    },
    {
     "data": {
      "image/png": "[encoded data removed]",
      "text/plain": [
       "<Figure size 432x288 with 1 Axes>"
      ]
     },
     "metadata": {
      "needs_background": "light"
     },
     "output_type": "display_data"
    }
   ],
   "source": [
    "import numpy as np\n",
    "import matplotlib.pyplot as plt\n",
    "\n",
    "# Running Distance in Mile\n",
    "x = np.array([3.3,4.4,5.5,6.71,6.93,4.168,9.779,6.182,7.59,2.167,\n",
    "                         7.042,10.791,5.313,7.997,5.654,9.27,3.1])\n",
    "\n",
    "# Water Drinks in Litre\n",
    "y = np.array([1.7,2.76,2.09,3.19,1.694,1.573,3.366,2.596,2.53,1.221,\n",
    "                         2.827,3.465,1.65,2.904,2.42,2.94,1.3])\n",
    "\n",
    "plt.scatter(x, y)\n",
    "plt.xlabel('Running Distance (Mile)')\n",
    "plt.ylabel('Water Drinks (Litre)')"
   ]
  },
  {
   "cell_type": "code",
   "execution_count": 4,
   "metadata": {},
   "outputs": [
    {
     "name": "stdout",
     "output_type": "stream",
     "text": [
      "6.518593101764703\n",
      "0.15385767404191164\n"
     ]
    }
   ],
   "source": [
    "def min_sq_error(y, x, w1, w0):\n",
    "    y_pred = []\n",
    "    for value in x:\n",
    "        y_pred.append((value*w1)+w0)\n",
    "    E = []\n",
    "    \n",
    "    for i, j in zip(y,y_pred):\n",
    "        E.append(j-i)\n",
    "    square_E = []    \n",
    "    for element in E:\n",
    "        square_E.append(element**2)\n",
    "    sum_square = sum(square_E)\n",
    "    mse = sum_square/len(square_E)\n",
    "    \n",
    "    return mse\n",
    "\n",
    "print(min_sq_error(y, x, 0.7, 0.3))\n",
    "print(min_sq_error(y, x, 0.25163494, 0.79880123))"
   ]
  },
  {
   "cell_type": "code",
   "execution_count": 7,
   "metadata": {},
   "outputs": [
    {
     "name": "stdout",
     "output_type": "stream",
     "text": [
      "(0.25163494428355315, 0.7988012261753947)\n"
     ]
    }
   ],
   "source": [
    "def slope_intercept_LR(x, y):\n",
    "    mean_x = np.mean(x)\n",
    "    mean_y = np.mean(y)\n",
    "    mean_xy= np.mean([i*j for i,j in zip(x,y)])\n",
    "    \n",
    "    w1 = (mean_xy-((mean_x)*(mean_y)))/((np.mean([i**2 for i in x])-(mean_x**2)))\n",
    "    w0 = mean_y-(w1*(mean_x))\n",
    "    return w1, w0\n",
    "\n",
    "print(slope_intercept_LR(x, y))"
   ]
  },
  {
   "cell_type": "code",
   "execution_count": 21,
   "metadata": {},
   "outputs": [],
   "source": [
    "def E_mean_var(x,y,w1,w0):\n",
    "    \n",
    "    y_pred = [[(w1*i) + w0 for i in x]]\n",
    "    \n",
    "    E = [[i-j for i,j in zip(y_pred,y)]]\n",
    "    \n",
    "    \n",
    "        \n",
    "    E_mean = np.mean(E)\n",
    "    \n",
    "    E_var = np.var(E)\n",
    "    \n",
    "    \n",
    "    return E_mean, E_var, E\n",
    "    \n",
    "    \n",
    "    \n"
   ]
  },
  {
   "cell_type": "code",
   "execution_count": 23,
   "metadata": {},
   "outputs": [
    {
     "name": "stdout",
     "output_type": "stream",
     "text": [
      "0.25163494428355315 0.7988012261753947\n"
     ]
    },
    {
     "data": {
      "text/plain": [
       "<matplotlib.axes._subplots.AxesSubplot at 0x12e4ccfd0>"
      ]
     },
     "execution_count": 23,
     "metadata": {},
     "output_type": "execute_result"
    },
    {
     "data": {
      "image/png": "[encoded data removed]",
      "text/plain": [
       "<Figure size 432x288 with 1 Axes>"
      ]
     },
     "metadata": {
      "needs_background": "light"
     },
     "output_type": "display_data"
    }
   ],
   "source": [
    "slope = slope_intercept_LR(x, y)[0]\n",
    "intercept = slope_intercept_LR(x, y)[1]\n",
    "E = E_mean_var(x,y,slope,intercept)[2]\n",
    "\n",
    "print(slope_intercept_LR(x, y)[0], slope_intercept_LR(x, y)[1])  \n",
    "\n",
    "import seaborn as sns\n",
    "\n",
    "sns.distplot(E, hist=True, kde=True, bins=4)\n",
    "\n"
   ]
  },
  {
   "cell_type": "code",
   "execution_count": null,
   "metadata": {},
   "outputs": [],
   "source": []
  }
 ],
 "metadata": {
  "kernelspec": {
   "display_name": "Python 3",
   "language": "python",
   "name": "python3"
  },
  "language_info": {
   "codemirror_mode": {
    "name": "ipython",
    "version": 3
   },
   "file_extension": ".py",
   "mimetype": "text/x-python",
   "name": "python",
   "nbconvert_exporter": "python",
   "pygments_lexer": "ipython3",
   "version": "3.7.4"
  }
 },
 "nbformat": 4,
 "nbformat_minor": 4
}
