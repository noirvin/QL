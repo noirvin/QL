{
 "cells": [
  {
   "cell_type": "code",
   "execution_count": 4,
   "metadata": {},
   "outputs": [
    {
     "name": "stdout",
     "output_type": "stream",
     "text": [
      "[[1, 115000], [2, 118450.0], [3, 122003.5], [4, 125663.605], [5, 129433.51315], [6, 133316.5185445], [7, 137316.014100835], [8, 141435.49452386005], [9, 145678.55935957585], [10, 150048.91614036314]]\n",
      "[[1, 115000], [2, 118450.0], [3, 122003.5], [4, 125663.605], [5, 129433.51315], [6, 133316.5185445], [7, 137316.014100835], [8, 141435.49452386005], [9, 145678.55935957585], [10, 150048.91614036314]]\n",
      "3.5\n",
      "3.5\n",
      "4.5\n",
      "4.5\n",
      "3\n",
      "3\n",
      "8\n",
      "6.454972243679028\n",
      "6.454972243679028\n",
      "[2, 4, 6, 8]\n"
     ]
    }
   ],
   "source": [
    "%run \"Statistical Analysis.ipynb\""
   ]
  },
  {
   "cell_type": "code",
   "execution_count": 6,
   "metadata": {},
   "outputs": [
    {
     "name": "stdout",
     "output_type": "stream",
     "text": [
      "0.9574271077563381\n"
     ]
    }
   ],
   "source": [
    "print(std([1,1,2,3]))"
   ]
  },
  {
   "cell_type": "code",
   "execution_count": 9,
   "metadata": {},
   "outputs": [
    {
     "name": "stdout",
     "output_type": "stream",
     "text": [
      "0.9216\n"
     ]
    }
   ],
   "source": [
    "print(0.96*0.96)"
   ]
  },
  {
   "cell_type": "code",
   "execution_count": 10,
   "metadata": {},
   "outputs": [
    {
     "data": {
      "text/plain": [
       "Text(0, 0.5, 'Water Drinks (Litre)')"
      ]
     },
     "execution_count": 10,
     "metadata": {},
     "output_type": "execute_result"
    },
    {
     "data": {
      "image/png": "[encoded data removed]",
      "text/plain": [
       "<Figure size 432x288 with 1 Axes>"
      ]
     },
     "metadata": {
      "needs_background": "light"
     },
     "output_type": "display_data"
    }
   ],
   "source": [
    "import numpy as np\n",
    "import matplotlib.pyplot as plt\n",
    "\n",
    "# Running Distance in Mile\n",
    "X = np.array([3.3,4.4,5.5,6.71,6.93,4.168,9.779,6.182,7.59,2.167,\n",
    "                         7.042,10.791,5.313,7.997,5.654,9.27,3.1])\n",
    "\n",
    "# Water Drinks in Litre\n",
    "Y = np.array([1.7,2.76,2.09,3.19,1.694,1.573,3.366,2.596,2.53,1.221,\n",
    "                         2.827,3.465,1.65,2.904,2.42,2.94,1.3])\n",
    "\n",
    "plt.scatter(X, Y)\n",
    "plt.xlabel('Running Distance (Mile)')\n",
    "plt.ylabel('Water Drinks (Litre)')"
   ]
  },
  {
   "cell_type": "code",
   "execution_count": 20,
   "metadata": {},
   "outputs": [],
   "source": [
    "def correlation(dataset1, dataset2):\n",
    "    average_x = mean(dataset1)\n",
    "    average_y = mean(dataset2)\n",
    "    summation = 0\n",
    "    for x, y in zip(dataset1, dataset2):\n",
    "        summation += (x-average_x)*(y-average_y)\n",
    "    cov = summation/(len(dataset1)-1)\n",
    "    corr = cov/(std(dataset1)*std(dataset2))\n",
    "    \n",
    "    return corr\n",
    "        \n"
   ]
  },
  {
   "cell_type": "code",
   "execution_count": 21,
   "metadata": {},
   "outputs": [
    {
     "name": "stdout",
     "output_type": "stream",
     "text": [
      "0.8323917528894436\n"
     ]
    }
   ],
   "source": [
    "print(correlation(X, Y))"
   ]
  },
  {
   "cell_type": "code",
   "execution_count": null,
   "metadata": {},
   "outputs": [],
   "source": [
    "\n"
   ]
  }
 ],
 "metadata": {
  "kernelspec": {
   "display_name": "Python 3",
   "language": "python",
   "name": "python3"
  },
  "language_info": {
   "codemirror_mode": {
    "name": "ipython",
    "version": 3
   },
   "file_extension": ".py",
   "mimetype": "text/x-python",
   "name": "python",
   "nbconvert_exporter": "python",
   "pygments_lexer": "ipython3",
   "version": "3.7.4"
  }
 },
 "nbformat": 4,
 "nbformat_minor": 4
}
