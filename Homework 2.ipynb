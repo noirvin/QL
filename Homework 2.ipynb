{
 "cells": [
  {
   "cell_type": "code",
   "execution_count": 94,
   "metadata": {},
   "outputs": [
    {
     "name": "stdout",
     "output_type": "stream",
     "text": [
      "0.06236666666666667\n",
      "0.063\n"
     ]
    }
   ],
   "source": [
    "from random import choices\n",
    "\n",
    "def verify_head(prob_head,num_trials):\n",
    "    weights = [prob_head,1-prob_head]\n",
    "    event = ['H','T']\n",
    "    possibilities = [[['H'],['H'],['T']],[['H'],['T'],['H']],[['H'],['H'],['T']]]\n",
    "    target = 0\n",
    "    \n",
    "    for _ in range(num_trials):\n",
    "        \n",
    "        trial = []\n",
    "        for _ in range(3):\n",
    "            trial_i = choices(event, weights)\n",
    "            trial.append(trial_i)\n",
    "        if trial in possibilities:\n",
    "            target+=1\n",
    "       \n",
    "    p_2h_1t = (target/num_trials)/2\n",
    "    return p_2h_1t\n",
    "    \n",
    "prob_head = float(0.3)        \n",
    "test_func = verify_head(prob_head,15000)\n",
    "print(test_func)\n",
    "print(prob_head*prob_head*(1-prob_head))\n"
   ]
  },
  {
   "cell_type": "code",
   "execution_count": null,
   "metadata": {},
   "outputs": [],
   "source": []
  },
  {
   "cell_type": "code",
   "execution_count": null,
   "metadata": {},
   "outputs": [],
   "source": []
  }
 ],
 "metadata": {
  "kernelspec": {
   "display_name": "Python 3",
   "language": "python",
   "name": "python3"
  },
  "language_info": {
   "codemirror_mode": {
    "name": "ipython",
    "version": 3
   },
   "file_extension": ".py",
   "mimetype": "text/x-python",
   "name": "python",
   "nbconvert_exporter": "python",
   "pygments_lexer": "ipython3",
   "version": "3.7.4"
  }
 },
 "nbformat": 4,
 "nbformat_minor": 4
}
