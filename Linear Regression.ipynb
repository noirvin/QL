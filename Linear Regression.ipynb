{
 "cells": [
  {
   "cell_type": "code",
   "execution_count": 5,
   "metadata": {},
   "outputs": [
    {
     "name": "stdout",
     "output_type": "stream",
     "text": [
      "(6.518593101764703, [0.9099999999999995, 0.6200000000000001, 2.0599999999999996, 1.807, 3.456999999999999, 1.6445999999999996, 3.7792999999999997, 2.0313999999999997, 3.0829999999999997, 0.5958999999999997, 2.402399999999999, 4.3887, 2.3691, 2.993899999999999, 1.8377999999999997, 3.848999999999999, 1.1699999999999997])\n",
      "(0.15385767404191164, [-0.07080346800000004, -0.8540050339999998, 0.09279340000000014, -0.7027283226000001, 0.8486313642000001, 0.27461565992000003, -0.10646069174000017, -0.24159157091999983, 0.17871042459999975, 0.12309414497999982, -0.25618552252000004, 0.0491938675400001, 0.4857376662199999, -0.09287415482000005, -0.1984548192400002, 0.1914571237999998, 0.27886954399999997])\n"
     ]
    }
   ],
   "source": [
    "import numpy as np\n",
    "import matplotlib.pyplot as plt\n",
    "import pandas as pd\n",
    "import seaborn as sns\n",
    "\n",
    "def mean_squared_e(x,y,w1,w2):\n",
    "    \n",
    "    ypred = []\n",
    "    for value in x:\n",
    "        ypred.append((value*w1)+w2)\n",
    "        \n",
    "    E = []\n",
    "    \n",
    "    for i, j in zip(y,ypred):\n",
    "        E.append(j-i)\n",
    "    square_E = []    \n",
    "    for element in E:\n",
    "        square_E.append(element**2)\n",
    "    sum_square = sum(square_E)\n",
    "    mse = sum_square/len(square_E)\n",
    "    \n",
    "    return mse,E\n",
    "\n",
    "\n",
    "# Running Distance in Mile\n",
    "x = np.array([3.3,4.4,5.5,6.71,6.93,4.168,9.779,6.182,7.59,2.167,\n",
    "                         7.042,10.791,5.313,7.997,5.654,9.27,3.1])\n",
    "\n",
    "# Water Drinks in Litre\n",
    "y = np.array([1.7,2.76,2.09,3.19,1.694,1.573,3.366,2.596,2.53,1.221,\n",
    "                         2.827,3.465,1.65,2.904,2.42,2.94,1.3])\n",
    "\n",
    "mse_test = mean_squared_e(x,y,0.7,0.3)\n",
    "mse_test_2= mean_squared_e(x,y,0.25163494,0.79880123) \n",
    "\n",
    "print(mse_test)\n",
    "print(mse_test_2)\n",
    "\n",
    "        \n",
    "    \n",
    "    "
   ]
  },
  {
   "cell_type": "code",
   "execution_count": 18,
   "metadata": {},
   "outputs": [
    {
     "data": {
      "text/plain": [
       "<matplotlib.axes._subplots.AxesSubplot at 0x123b1b450>"
      ]
     },
     "execution_count": 18,
     "metadata": {},
     "output_type": "execute_result"
    },
    {
     "data": {
      "image/png": "[encoded data removed]",
      "text/plain": [
       "<Figure size 432x288 with 1 Axes>"
      ]
     },
     "metadata": {
      "needs_background": "light"
     },
     "output_type": "display_data"
    }
   ],
   "source": [
    "mse1, E_test = mean_squared_e(x,y,0.7,0.3)\n",
    "sns.distplot(E_test, hist=True, kde=True, bins=4)\n",
    "mse2, E_test_2 = mean_squared_e(x,y,0.25163494,0.79880123)\n",
    "sns.distplot(E_test_2, hist=True, kde=True,  bins=4)    "
   ]
  },
  {
   "cell_type": "code",
   "execution_count": 19,
   "metadata": {},
   "outputs": [
    {
     "name": "stdout",
     "output_type": "stream",
     "text": [
      "2.2940647058823522\n",
      "-2.2857647095348205e-08\n"
     ]
    }
   ],
   "source": [
    "mean_E1 = np.mean(E_test)\n",
    "mean_E2 = np.mean(E_test_2)\n",
    "\n",
    "print(mean_E1)\n",
    "print(mean_E2)"
   ]
  },
  {
   "cell_type": "code",
   "execution_count": 21,
   "metadata": {},
   "outputs": [
    {
     "name": "stdout",
     "output_type": "stream",
     "text": [
      "1.1206516974464542\n",
      "0.39224695542720417\n"
     ]
    }
   ],
   "source": [
    "std_E1 = np.std(E_test)\n",
    "std_E2 = np.std(E_test_2)\n",
    "\n",
    "print(std_E1)\n",
    "print(std_E2)"
   ]
  },
  {
   "cell_type": "code",
   "execution_count": 22,
   "metadata": {},
   "outputs": [
    {
     "name": "stdout",
     "output_type": "stream",
     "text": [
      "0.25163494428355404\n"
     ]
    }
   ],
   "source": [
    "from scipy import stats\n",
    "\n",
    "slope, intercept, r_value, p_value, std_err= stats.linregress(x,y)\n",
    "\n",
    "print(slope)"
   ]
  },
  {
   "cell_type": "code",
   "execution_count": 24,
   "metadata": {},
   "outputs": [
    {
     "name": "stdout",
     "output_type": "stream",
     "text": [
      "0.7988012261753894\n",
      "r_squared:0.6928760302783604\n"
     ]
    }
   ],
   "source": [
    "print(intercept)\n",
    "print(\"r_squared:\"+str(r_value**2))"
   ]
  },
  {
   "cell_type": "code",
   "execution_count": null,
   "metadata": {},
   "outputs": [],
   "source": []
  }
 ],
 "metadata": {
  "kernelspec": {
   "display_name": "Python 3",
   "language": "python",
   "name": "python3"
  },
  "language_info": {
   "codemirror_mode": {
    "name": "ipython",
    "version": 3
   },
   "file_extension": ".py",
   "mimetype": "text/x-python",
   "name": "python",
   "nbconvert_exporter": "python",
   "pygments_lexer": "ipython3",
   "version": "3.7.4"
  }
 },
 "nbformat": 4,
 "nbformat_minor": 4
}
